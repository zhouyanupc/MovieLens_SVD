{
  "nbformat": 4,
  "nbformat_minor": 0,
  "metadata": {
    "colab": {
      "name": "MovieLens_SVD.ipynb",
      "provenance": []
    },
    "kernelspec": {
      "name": "python3",
      "display_name": "Python 3"
    }
  },
  "cells": [
    {
      "cell_type": "code",
      "metadata": {
        "id": "JYbYLJwFYLs3",
        "colab_type": "code",
        "colab": {
          "base_uri": "https://localhost:8080/",
          "height": 310
        },
        "outputId": "3415fc2f-566c-432e-d06d-0ff9888b4f2c"
      },
      "source": [
        "!pip install surprise"
      ],
      "execution_count": 2,
      "outputs": [
        {
          "output_type": "stream",
          "text": [
            "Collecting surprise\n",
            "  Downloading https://files.pythonhosted.org/packages/61/de/e5cba8682201fcf9c3719a6fdda95693468ed061945493dea2dd37c5618b/surprise-0.1-py2.py3-none-any.whl\n",
            "Collecting scikit-surprise\n",
            "\u001b[?25l  Downloading https://files.pythonhosted.org/packages/f5/da/b5700d96495fb4f092be497f02492768a3d96a3f4fa2ae7dea46d4081cfa/scikit-surprise-1.1.0.tar.gz (6.4MB)\n",
            "\u001b[K     |████████████████████████████████| 6.5MB 7.0MB/s \n",
            "\u001b[?25hRequirement already satisfied: joblib>=0.11 in /usr/local/lib/python3.6/dist-packages (from scikit-surprise->surprise) (0.15.1)\n",
            "Requirement already satisfied: numpy>=1.11.2 in /usr/local/lib/python3.6/dist-packages (from scikit-surprise->surprise) (1.18.5)\n",
            "Requirement already satisfied: scipy>=1.0.0 in /usr/local/lib/python3.6/dist-packages (from scikit-surprise->surprise) (1.4.1)\n",
            "Requirement already satisfied: six>=1.10.0 in /usr/local/lib/python3.6/dist-packages (from scikit-surprise->surprise) (1.12.0)\n",
            "Building wheels for collected packages: scikit-surprise\n",
            "  Building wheel for scikit-surprise (setup.py) ... \u001b[?25l\u001b[?25hdone\n",
            "  Created wheel for scikit-surprise: filename=scikit_surprise-1.1.0-cp36-cp36m-linux_x86_64.whl size=1675724 sha256=ea23796f28657a913ae7cf627eee4c2d923e6434dea23ce8bd4fe944e900b84f\n",
            "  Stored in directory: /root/.cache/pip/wheels/cc/fa/8c/16c93fccce688ae1bde7d979ff102f7bee980d9cfeb8641bcf\n",
            "Successfully built scikit-surprise\n",
            "Installing collected packages: scikit-surprise, surprise\n",
            "Successfully installed scikit-surprise-1.1.0 surprise-0.1\n"
          ],
          "name": "stdout"
        }
      ]
    },
    {
      "cell_type": "code",
      "metadata": {
        "id": "x2RvwnNHY7Y8",
        "colab_type": "code",
        "colab": {
          "base_uri": "https://localhost:8080/",
          "height": 426
        },
        "outputId": "329c3699-d3e1-49ca-fad8-20c9c355bf91"
      },
      "source": [
        "from surprise import SVD, SVDpp\n",
        "from surprise import Dataset\n",
        "from surprise.model_selection import cross_validate\n",
        "from surprise import Reader\n",
        "from surprise import accuracy\n",
        "from surprise.model_selection import KFold\n",
        "import pandas as pd\n",
        "\n",
        "\n",
        "# 数据读取\n",
        "reader = Reader(line_format='user item rating timestamp', sep=',', skip_lines=1)\n",
        "data = Dataset.load_from_file('/content/drive/My Drive/datasets/Movelens/ratings_small.csv', reader=reader)\n",
        "train_set = data.build_full_trainset()\n",
        "\n",
        "# 使用3种SVD算法\n",
        "algo_funk = SVD(biased=False) # 使用funkSVD\n",
        "algo_bias = SVD() # 使用biasSVD\n",
        "algo_pp = SVDpp() # 使用SVD++\n",
        "\n",
        "# K折交叉验证，K=3\n",
        "kf = KFold(n_splits=3)\n",
        "for trainset, testset in kf.split(data):\n",
        "    # 训练并预测\n",
        "    # funkSVD\n",
        "    algo_funk.fit(trainset)\n",
        "    predictions_funk = algo_funk.test(testset)\n",
        "    # biasSVD\n",
        "    algo_bias.fit(trainset)\n",
        "    predictions_bias = algo_bias.test(testset)\n",
        "    # SVD++\n",
        "    algo_pp.fit(trainset)\n",
        "    predictions_pp = algo_pp.test(testset)\n",
        "    # 计算RMSE\n",
        "    print('funkSVD')\n",
        "    accuracy.rmse(predictions_funk, verbose=True)\n",
        "    print('biasSVD')\n",
        "    accuracy.rmse(predictions_bias, verbose=True)\n",
        "    print('SVD++')\n",
        "    accuracy.rmse(predictions_pp, verbose=True)\n",
        "\n",
        "uid = str(196)\n",
        "iid = str(302)\n",
        "# 输出uid对iid的预测结果\n",
        "print('funkSVD预测结果:')\n",
        "pred_funk = algo_funk.predict(uid, iid, r_ui=4, verbose=True)\n",
        "print('biasSVD预测结果:')\n",
        "pred_bias = algo_bias.predict(uid, iid, r_ui=4, verbose=True)\n",
        "print('SVD++预测结果:')\n",
        "pred_pp = algo_pp.predict(uid, iid, r_ui=4, verbose=True)"
      ],
      "execution_count": 8,
      "outputs": [
        {
          "output_type": "stream",
          "text": [
            "funkSVD\n",
            "RMSE: 1.0454\n",
            "biasSVD\n",
            "RMSE: 0.9045\n",
            "SVD++\n",
            "RMSE: 0.8962\n",
            "funkSVD\n",
            "RMSE: 1.0413\n",
            "biasSVD\n",
            "RMSE: 0.8975\n",
            "SVD++\n",
            "RMSE: 0.8888\n",
            "funkSVD\n",
            "RMSE: 1.0516\n",
            "biasSVD\n",
            "RMSE: 0.9082\n",
            "SVD++\n",
            "RMSE: 0.8989\n",
            "funkSVD预测结果:\n",
            "user: 196        item: 302        r_ui = 4.00   est = 3.36   {'was_impossible': False}\n",
            "biasSVD预测结果:\n",
            "user: 196        item: 302        r_ui = 4.00   est = 3.74   {'was_impossible': False}\n",
            "SVD++预测结果:\n",
            "user: 196        item: 302        r_ui = 4.00   est = 3.74   {'was_impossible': False}\n"
          ],
          "name": "stdout"
        }
      ]
    },
    {
      "cell_type": "code",
      "metadata": {
        "id": "1_aKR0HkY5Bn",
        "colab_type": "code",
        "colab": {}
      },
      "source": [
        ""
      ],
      "execution_count": null,
      "outputs": []
    }
  ]
}